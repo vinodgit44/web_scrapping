{
 "cells": [
  {
   "cell_type": "code",
   "execution_count": 1,
   "id": "3a9c7507-8fba-4e30-9f50-a47c752a63fc",
   "metadata": {},
   "outputs": [],
   "source": [
    "from bs4 import BeautifulSoup\n",
    "import requests"
   ]
  },
  {
   "cell_type": "code",
   "execution_count": 2,
   "id": "a4fdd13b-e536-4de3-8acb-efa5926efb7a",
   "metadata": {},
   "outputs": [],
   "source": [
    "\n",
    "html_text=requests.get(\"https://www.timesjobs.com/candidate/job-search.html?searchType=personalizedSearch&from=submit&txtKeywords=python&txtLocation=\").text\n",
    "#print(html_text)\n",
    "soup=BeautifulSoup(html_text,\"lxml\")\n"
   ]
  },
  {
   "cell_type": "code",
   "execution_count": 58,
   "id": "77c84fc2-edf3-4bf3-8aa1-37bb70f3e2e6",
   "metadata": {},
   "outputs": [
    {
     "name": "stdout",
     "output_type": "stream",
     "text": [
      "*******************************\n",
      "<a href=\"https://www.timesjobs.com/job-detail/python-pure-tech-codex-private-limited-pune-2-to-3-yrs-jobid-OHwfF0d6EhNzpSvf__PLUS__uAgZw==&amp;source=srp\" onclick=\"logViewUSBT('view','66840090','rest  ,  python  ,  database  ,  django  ,  debugging  ,  mongodb','Pune','2 - 3','IT Software : Software Products &amp; Services','1' )\" target=\"_blank\">\n",
      "<strong class=\"blkclor\">Python</strong></a>\n",
      "*******************************\n",
      "<a href=\"https://www.timesjobs.com/job-detail/python-zensar-technologies-ltd-pune-4-to-7-yrs-jobid-bawHSl4PnNRzpSvf__PLUS__uAgZw==&amp;source=srp\" onclick=\"logViewUSBT('view','68488653','python  ,  database  ,  django  ,  apache  ,  git  ,  linux  ,  web development  ,  object oriented programming  ,  mongodb','Pune','4 - 7','IT Software : Software Products &amp; Services','2' )\" target=\"_blank\">\n",
      "<strong class=\"blkclor\">PYTHON</strong></a>\n",
      "*******************************\n",
      "<a href=\"https://www.timesjobs.com/job-detail/python-surya-informatics-solutions-pvt-ltd-chennai-0-to-3-yrs-jobid-UVlLes58wutzpSvf__PLUS__uAgZw==&amp;source=srp\" onclick=\"logViewUSBT('view','65799390','python  ,  web technologies  ,  linux  ,  mobile  ,  mysql  ,  angularjs  ,  javascript','Chennai','0 - 3','IT Software : Software Products &amp; Services','3' )\" target=\"_blank\">\n",
      "<strong class=\"blkclor\">Python</strong></a>\n",
      "*******************************\n",
      "<a href=\"https://www.timesjobs.com/job-detail/python-best-infosystems-ltd-hyderabad-secunderabad-5-to-7-yrs-jobid-__SLASH__J0fFSJhFspzpSvf__PLUS__uAgZw==&amp;source=srp\" onclick=\"logViewUSBT('view','68221731','PYTHON  ,  Azure   ,  ML  ,  AFRS  ,  Cognitive   ,  Data Lake  ,  Databricks  ,  Data Factory  ,  Synapse   ,  Analytics  ,  SQL  ,  EventHub   ,  IoT   ,  Apache   ,  Spark   ,  Machine Learning  ,  Databrick  ,  Docker  ,  RedHat','Hyderabad/Secunderabad','5 - 7','IT Software : Software Products &amp; Services','4' )\" target=\"_blank\">\n",
      "      PYTHON</a>\n",
      "*******************************\n",
      "<a href=\"https://www.timesjobs.com/job-detail/qa-python-python-sdet-gemini-solutions-gurgaon-4-to-7-yrs-jobid-eGMLzwOk2QlzpSvf__PLUS__uAgZw==&amp;source=srp\" onclick=\"logViewUSBT('view','65999563','python  ,  mobile  ,  svn  ,  nosql  ,  python scripting  ,  git  ,  api  ,  sql database','Gurgaon','4 - 7','IT Software : Software Products &amp; Services','5' )\" target=\"_blank\">\n",
      "      QA <strong class=\"blkclor\">Python</strong> / <strong class=\"blkclor\">Python</strong> SDET</a>\n",
      "*******************************\n",
      "<a href=\"https://www.timesjobs.com/job-detail/python-developer-python-programmer-research-developers-delhi-delhi-ncr-noida-greater-noida-0-to-3-yrs-jobid-3MUarDWEYwBzpSvf__PLUS__uAgZw==&amp;source=srp\" onclick=\"logViewUSBT('view','66091823','python  ,  research  ,  python programmer  ,  Machine Learning  ,  Pattern Recognition  ,  Image Processing  ,  Digital Image  ,  Signal Processing  ,  Electronic Circuits  ,  Network Analysis','Delhi,  Delhi/NCR,  Noida/Greater Noida','0 - 3','Education / Teaching / Language Specialist','6' )\" target=\"_blank\">\n",
      "<strong class=\"blkclor\">Python</strong> Developer , <strong class=\"blkclor\">Python</strong> Programmer</a>\n",
      "*******************************\n",
      "<a href=\"https://www.timesjobs.com/job-detail/python-developer-tanda-hr-solutions-mohali-3-to-5-yrs-jobid-GTT0grHZP1tzpSvf__PLUS__uAgZw==&amp;source=srp\" onclick=\"logViewUSBT('view','65463829','Django framework  ,  Python Developer  ,  core python','Mohali','3 - 5','IT Software : Software Products &amp; Services','7' )\" target=\"_blank\">\n",
      "<strong class=\"blkclor\">Python</strong> Developer</a>\n",
      "*******************************\n",
      "<a href=\"https://www.timesjobs.com/job-detail/python-developer-tanda-hr-solutions-gurgaon-0-to-3-yrs-jobid-dMtCdFUMRY5zpSvf__PLUS__uAgZw==&amp;source=srp\" onclick=\"logViewUSBT('view','67859576','python  ,  django  ,  sql','Gurgaon','0 - 3','IT Software : Software Products &amp; Services','8' )\" target=\"_blank\">\n",
      "<strong class=\"blkclor\">Python</strong> Developer</a>\n",
      "*******************************\n",
      "<a href=\"https://www.timesjobs.com/job-detail/python-developer-br-raysoft-global-pvt-ltd-bengaluru-bangalore-4-to-9-yrs-jobid-0cpok2KPgrZzpSvf__PLUS__uAgZw==&amp;source=srp\" onclick=\"logViewUSBT('view','68486966','Python  ,  Django','Bengaluru / Bangalore','4 - 9','IT Software : Software Products &amp; Services','9' )\" target=\"_blank\">\n",
      "<strong class=\"blkclor\">Python</strong> Developer</a>\n",
      "*******************************\n",
      "<a href=\"https://www.timesjobs.com/job-detail/python-developer-hk-infosoft-ahmedabad-2-to-3-yrs-jobid-qPkmbRWxs5dzpSvf__PLUS__uAgZw==&amp;source=srp\" onclick=\"logViewUSBT('view','67826904','python  ,  django  ,    ,   framework','Ahmedabad','2 - 3','IT Software : Software Products &amp; Services','10' )\" target=\"_blank\">\n",
      "<strong class=\"blkclor\">Python</strong> Developer</a>\n",
      "*******************************\n",
      "<a href=\"https://www.timesjobs.com/job-detail/python-developer-tanda-hr-solutions-chandigarh-5-to-8-yrs-jobid-id252yPhiLZzpSvf__PLUS__uAgZw==&amp;source=srp\" onclick=\"logViewUSBT('view','65461103','python  ,  git  ,  django','Chandigarh','5 - 8','IT Software : Software Products &amp; Services','11' )\" target=\"_blank\">\n",
      "<strong class=\"blkclor\">Python</strong> Developer</a>\n",
      "*******************************\n",
      "<a href=\"https://www.timesjobs.com/job-detail/python-developers-tanda-hr-solutions-chandigarh-2-to-5-yrs-jobid-OtVSvO0kmYNzpSvf__PLUS__uAgZw==&amp;source=srp\" onclick=\"logViewUSBT('view','66412486','python  ,  git  ,  django','Chandigarh','2 - 5','IT Software : Software Products &amp; Services','12' )\" target=\"_blank\">\n",
      "<strong class=\"blkclor\">Python</strong> Developers</a>\n",
      "*******************************\n",
      "<a href=\"https://www.timesjobs.com/job-detail/python-developer-applycup-hiring-solutions-llp-gurgaon-delhi-delhi-ncr-2-to-15-yrs-jobid-FHYQtX1BOyxzpSvf__PLUS__uAgZw==&amp;source=srp\" onclick=\"logViewUSBT('view','65602057','python  ,  django  ,  html5  ,  javascript','Gurgaon,  Delhi,  Delhi/NCR','2 - 15','IT Software : Software Products &amp; Services','13' )\" target=\"_blank\">\n",
      "<strong class=\"blkclor\">Python</strong> Developer</a>\n",
      "*******************************\n",
      "<a href=\"https://www.timesjobs.com/job-detail/python-developer-technopark-trivandrum-thiruvananthapuram-2-to-5-yrs-jobid-f21VGsuOkldzpSvf__PLUS__uAgZw==&amp;source=srp\" onclick=\"logViewUSBT('view','68521594','python  ,  oops  ,  storage','Thiruvananthapuram','2 - 5','IT Software : Software Products &amp; Services','14' )\" target=\"_blank\">\n",
      "      Python <strong class=\"blkclor\">Developer</strong></a>\n",
      "*******************************\n",
      "<a href=\"https://www.timesjobs.com/job-detail/python-developer-brickred-technologies-pvt-ltd-0-to-3-yrs-jobid-gFvdvfbX1XdzpSvf__PLUS__uAgZw==&amp;source=srp\" onclick=\"logViewUSBT('view','66983730','image processing  ,  python  ,  opencv','','0 - 3','IT Software : Software Products &amp; Services','15' )\" target=\"_blank\">\n",
      "<strong class=\"blkclor\">Python</strong> Developer</a>\n",
      "*******************************\n",
      "<a href=\"https://www.timesjobs.com/job-detail/python-developer-brickred-technologies-pvt-ltd-0-to-3-yrs-jobid-p9__SLASH__whk__PLUS____PLUS__Ie1zpSvf__PLUS__uAgZw==&amp;source=srp\" onclick=\"logViewUSBT('view','66983728','image processing  ,  python  ,  opencv','','0 - 3','IT Software : Software Products &amp; Services','16' )\" target=\"_blank\">\n",
      "<strong class=\"blkclor\">Python</strong> Developer</a>\n",
      "*******************************\n",
      "<a href=\"https://www.timesjobs.com/job-detail/python-developer-brickred-technologies-pvt-ltd-0-to-3-yrs-jobid-LHhOOHnAobhzpSvf__PLUS__uAgZw==&amp;source=srp\" onclick=\"logViewUSBT('view','66983727','image processing  ,  python  ,  opencv','','0 - 3','IT Software : Software Products &amp; Services','17' )\" target=\"_blank\">\n",
      "<strong class=\"blkclor\">Python</strong> Developer</a>\n",
      "*******************************\n",
      "<a href=\"https://www.timesjobs.com/job-detail/python-developer-visionpix-technologies-llp-bengaluru-bangalore-4-to-10-yrs-jobid-EAoyvX9td4pzpSvf__PLUS__uAgZw==&amp;source=srp\" onclick=\"logViewUSBT('view','66026817','python  ,  oops  ,  technical skills  ,','Bengaluru / Bangalore','4 - 10','IT Software : Software Products &amp; Services','18' )\" target=\"_blank\">\n",
      "<strong class=\"blkclor\">Python</strong> Developer</a>\n",
      "*******************************\n",
      "<a href=\"https://www.timesjobs.com/job-detail/python-developer-jobslo-consultants-indore-2-to-3-yrs-jobid-XP1detWpoa5zpSvf__PLUS__uAgZw==&amp;source=srp\" onclick=\"logViewUSBT('view','65871083','python  ,  linux  ,  windows  ,  sql','Indore','2 - 3','IT Software : Software Products &amp; Services','19' )\" target=\"_blank\">\n",
      "<strong class=\"blkclor\">Python</strong> Developer</a>\n",
      "*******************************\n",
      "<a href=\"https://www.timesjobs.com/job-detail/python-developer-perfios-software-solutions-pvt-ltd-bengaluru-bangalore-5-to-8-yrs-jobid-vxzXapFfNqVzpSvf__PLUS__uAgZw==&amp;source=srp\" onclick=\"logViewUSBT('view','67294862','python  ,  java  ,  scala','Bengaluru / Bangalore','5 - 8','IT Software : Software Products &amp; Services','20' )\" target=\"_blank\">\n",
      "<strong class=\"blkclor\">Python</strong> Developer</a>\n",
      "*******************************\n",
      "<a href=\"https://www.timesjobs.com/job-detail/python-developer-zenga-tv-gurgaon-2-to-5-yrs-jobid-__PLUS__GAu6f5FqwdzpSvf__PLUS__uAgZw==&amp;source=srp\" onclick=\"logViewUSBT('view','64587291','python  ,  django  ,  html5  ,  javascript','Gurgaon','2 - 5','IT Software : Software Products &amp; Services','21' )\" target=\"_blank\">\n",
      "<strong class=\"blkclor\">Python</strong> Developer</a>\n",
      "*******************************\n",
      "<a href=\"https://www.timesjobs.com/job-detail/python-developer-brickred-3pillar-global-4-to-7-yrs-jobid-yLg2v6MQrzZzpSvf__PLUS__uAgZw==&amp;source=srp\" onclick=\"logViewUSBT('view','68518516','software products  ,  Python  ,  DynamoDB','','4 - 7','IT Software : Software Products &amp; Services','22' )\" target=\"_blank\">\n",
      "<strong class=\"blkclor\">Python</strong> Developer</a>\n",
      "*******************************\n",
      "<a href=\"https://www.timesjobs.com/job-detail/python-developer-technopark-trivandrum-thiruvananthapuram-0-to-3-yrs-jobid-qGqCZ4ZtMUxzpSvf__PLUS__uAgZw==&amp;source=srp\" onclick=\"logViewUSBT('view','68549762','python  ,  debugging  ,  problem solving  ,  sql','Thiruvananthapuram','0 - 3','IT Software : Software Products &amp; Services','23' )\" target=\"_blank\">\n",
      "<strong class=\"blkclor\">Python</strong> Developer</a>\n",
      "*******************************\n",
      "<a href=\"https://www.timesjobs.com/job-detail/python-engineer-dbs-asia-hub-2-hyderabad-secunderabad-0-to-3-yrs-jobid-yWSfEWrJkfdzpSvf__PLUS__uAgZw==&amp;source=srp\" onclick=\"logViewUSBT('view','68324473','python  ,  infrastructure  ,  design','Hyderabad/Secunderabad','0 - 3','IT Software : Software Products &amp; Services','24' )\" target=\"_blank\">\n",
      "<strong class=\"blkclor\">Python</strong> Engineer</a>\n",
      "*******************************\n",
      "<a href=\"https://www.timesjobs.com/job-detail/python-consultant-technopark-trivandrum-thiruvananthapuram-pune-2-to-5-yrs-jobid-xpRs__SLASH__TQEbJ1zpSvf__PLUS__uAgZw==&amp;source=srp\" onclick=\"logViewUSBT('view','68352780','python  ,  svn  ,  emulators  ,  consultant  ,  debugging','Thiruvananthapuram,  Pune','2 - 5','IT Software : Software Products &amp; Services','25' )\" target=\"_blank\">\n",
      "<strong class=\"blkclor\">Python</strong> Consultant</a>\n"
     ]
    }
   ],
   "source": [
    "count=0\n",
    "job=soup.find_all('li',class_=\"clearfix job-bx wht-shd-bx\")\n",
    "for job in job:\n",
    "    published = job.find(\"span\", class_=\"sim-posted\").text\n",
    "    if \"ago\" in published:\n",
    "        company_name=job.find(\"h3\",class_='joblist-comp-name').text.replace(' ','')\n",
    "        detail=job.find(\"ul\",class_=\"top-jd-dtl clearfix\")\n",
    "        exp=detail.find(\"li\").text.split()[-2]\n",
    "        info=job.header.h2.a\n",
    "        location=detail.find(\"span\").text\n",
    "        skills=job.find(\"span\", class_=\"srp-skills\").text.replace(\" \",\"\")\n",
    "       \n",
    "        count+=1\n",
    "        print(\"*******************************\")\n",
    "        print(info)\n",
    "#         print(f'Company  : {count}')\n",
    "#         print(f'Company Name : {company_name.strip()}')\n",
    "#         print(f'Experience: {exp.strip()}')\n",
    "#         print(f'Job Location: {location.strip()}')\n",
    "#         print(f'Required Skills: {skills.strip()}')\n",
    "#         print(f'More Info. : {info.strip()}')\n",
    "        \n",
    "                \n",
    "\n"
   ]
  },
  {
   "cell_type": "code",
   "execution_count": 59,
   "id": "63c35ac3-5b7c-4bcb-9c2f-5a155ed14e92",
   "metadata": {},
   "outputs": [
    {
     "name": "stdout",
     "output_type": "stream",
     "text": [
      "<a href=\"https://www.timesjobs.com/job-detail/python-consultant-technopark-trivandrum-thiruvananthapuram-pune-2-to-5-yrs-jobid-xpRs__SLASH__TQEbJ1zpSvf__PLUS__uAgZw==&amp;source=srp\" onclick=\"logViewUSBT('view','68352780','python  ,  svn  ,  emulators  ,  consultant  ,  debugging','Thiruvananthapuram,  Pune','2 - 5','IT Software : Software Products &amp; Services','25' )\" target=\"_blank\">\n",
      "<strong class=\"blkclor\">Python</strong> Consultant</a>\n"
     ]
    }
   ],
   "source": [
    "print(info)"
   ]
  },
  {
   "cell_type": "code",
   "execution_count": 67,
   "id": "b2cd02f2-dd7c-41d3-a17c-1eeb84817556",
   "metadata": {},
   "outputs": [
    {
     "name": "stdout",
     "output_type": "stream",
     "text": [
      "0 a\n",
      "1 b\n",
      "2 c\n",
      "3 d\n"
     ]
    }
   ],
   "source": [
    "ans=[]\n",
    "ans =['a','b','c','d']\n",
    "for index, i in enumerate(ans):\n",
    "    print(index,i)"
   ]
  },
  {
   "cell_type": "code",
   "execution_count": null,
   "id": "b208cb09-f3d8-4108-894e-00cebde7b177",
   "metadata": {},
   "outputs": [],
   "source": []
  }
 ],
 "metadata": {
  "kernelspec": {
   "display_name": "Python 3",
   "language": "python",
   "name": "python3"
  },
  "language_info": {
   "codemirror_mode": {
    "name": "ipython",
    "version": 3
   },
   "file_extension": ".py",
   "mimetype": "text/x-python",
   "name": "python",
   "nbconvert_exporter": "python",
   "pygments_lexer": "ipython3",
   "version": "3.8.8"
  }
 },
 "nbformat": 4,
 "nbformat_minor": 5
}
