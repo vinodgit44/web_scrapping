{
 "cells": [
  {
   "cell_type": "code",
   "execution_count": 1,
   "id": "bfe3e898-d939-43f3-80fa-7398bd19defe",
   "metadata": {},
   "outputs": [],
   "source": [
    "from bs4 import BeautifulSoup\n",
    "import requests\n",
    "\n",
    "html_text=requests.get(\"https://www.goibibo.com/hotels-international/hotels-in-maldives-ct/\").text\n",
    "soup=BeautifulSoup(html_text,\"lxml\")\n",
    "#right Section\n",
    "soupRight=soup.find(\"section\",class_=\"SRPstyles__RightSectionWrapperStyle-sc-19ucfhx-2 kzA-dLu\")"
   ]
  },
  {
   "cell_type": "code",
   "execution_count": 2,
   "id": "263e4698-5790-4696-9ed2-21c241fa50ef",
   "metadata": {},
   "outputs": [
    {
     "name": "stdout",
     "output_type": "stream",
     "text": [
      "Kandima Maldives\n"
     ]
    }
   ],
   "source": [
    "#Hotelone\n",
    "soup1=soupRight.find(\"div\",class_=\"HotelCardstyles__OuterWrapperDiv-sc-1s80tyk-0 cvGVYW\")\n",
    "Hotel_name=soup1.find('a',class_=\"HotelCardstyles__HotelNameSeoAnchor-sc-1s80tyk-16 eUMfTF\").text\n",
    "print(Hotel_name)"
   ]
  },
  {
   "cell_type": "code",
   "execution_count": 4,
   "id": "14bb3a08-d7c6-43ea-b9f7-893b6706e04f",
   "metadata": {},
   "outputs": [
    {
     "name": "stdout",
     "output_type": "stream",
     "text": [
      "Dhaalu Atoll\n"
     ]
    }
   ],
   "source": [
    "Location=soup1.find(\"div\",class_=\"PersuasionHoverTextstyles__TextWrapperSpan-sc-1c06rw1-15 hIMkOX\").text\n",
    "print(Location)"
   ]
  },
  {
   "cell_type": "code",
   "execution_count": 32,
   "id": "d03758fd-c27d-42ea-a22b-8a85ad676805",
   "metadata": {},
   "outputs": [
    {
     "name": "stdout",
     "output_type": "stream",
     "text": [
      "14838\n",
      "1 room per night\n"
     ]
    }
   ],
   "source": [
    "Price=soup1.find(\"div\",class_=\"HotelCardstyles__CurrentPriceTextWrapper-sc-1s80tyk-30 daRNvo\")\n",
    "print(Price.p.text)\n",
    "duration=soup1.find(\"span\",class_=\"HotelCardstyles__PerRoomNightTextWrapper-sc-1s80tyk-33 iKddwu\")\n",
    "print(f\"{duration.strong.text} {duration.span.text}\")\n",
    "# tax=soup1.find(\"span\",class_=\"HotelCardstyles__TaxPriceTextWrapper-sc-1s80tyk-32 dYACFb\").text\n",
    "\n",
    "# total_price=Price+tax\n",
    "# print(total_price)"
   ]
  },
  {
   "cell_type": "code",
   "execution_count": 7,
   "id": "794448e8-fede-4455-8442-1cc6305f4f5f",
   "metadata": {},
   "outputs": [
    {
     "name": "stdout",
     "output_type": "stream",
     "text": [
      "4.7 / 5\n"
     ]
    }
   ],
   "source": [
    "Ratings=soup1.find(\"span\",class_=\"ReviewAndRatingsstyles__AverageReviewText-sc-1nxmeoo-8 jzSqUD\").text\n",
    "print(Ratings)"
   ]
  },
  {
   "cell_type": "code",
   "execution_count": 14,
   "id": "3610c2fc-6475-44ea-aaa0-450fea693687",
   "metadata": {},
   "outputs": [
    {
     "name": "stdout",
     "output_type": "stream",
     "text": [
      "Sky Studio with Free Breakfast\n"
     ]
    }
   ],
   "source": [
    "Room_type=soup1.find(\"span\",class_=\"HotelCardstyles__RoomTypeTextWrapper-sc-1s80tyk-19 fNVNyG\").text\n",
    "print(Room_type)"
   ]
  },
  {
   "cell_type": "code",
   "execution_count": 45,
   "id": "4225a8f7-a7fc-4566-a546-37448d361adc",
   "metadata": {},
   "outputs": [
    {
     "name": "stdout",
     "output_type": "stream",
     "text": [
      "None\n"
     ]
    }
   ],
   "source": [
    "review = soup1.find(\"span\", class_=\"PersuasionHoverTextstyles__MainTextIconWrapperSpan-sc-1c06rw1-19 beUTcK\")\n",
    "print(review.siblings)"
   ]
  },
  {
   "cell_type": "code",
   "execution_count": 18,
   "id": "19f530e6-0568-4691-a715-e82936b6ce73",
   "metadata": {},
   "outputs": [
    {
     "name": "stdout",
     "output_type": "stream",
     "text": [
      "Doctor On Call\n",
      "Sanitizers installed\n",
      "Bar\n",
      "Outdoor Activities\n",
      "Banquet hall\n",
      "Travel Assistance\n",
      "Sanitizers\n",
      "Disinfectant wipes\n"
     ]
    }
   ],
   "source": [
    "aminities=soup1.find_all(\"p\",class_=\"AmenitiesListstyles__TextWrapper-sc-19dqtu1-7 iEiBKc\")\n",
    "for aminity in aminities:\n",
    "    print(aminity.text)"
   ]
  },
  {
   "cell_type": "code",
   "execution_count": 22,
   "id": "38908c5c-4f36-4e4c-9e5c-134fe108f25c",
   "metadata": {},
   "outputs": [
    {
     "name": "stdout",
     "output_type": "stream",
     "text": [
      "https://www.goibibo.com/hotels-international/hotels-international/kandima-maldives-hotel-in-maldives-4366536363238521348/\n"
     ]
    }
   ],
   "source": [
    "link=soup1.find('a',class_=\"HotelCardstyles__HotelNameSeoAnchor-sc-1s80tyk-16 eUMfTF\")\n",
    "url=link[\"href\"]\n",
    "more_info='https://www.goibibo.com/hotels-international'+url\n",
    "print(more_info)"
   ]
  },
  {
   "cell_type": "code",
   "execution_count": null,
   "id": "8ca15dd5-ff2a-43ef-9ed0-eaa0d5817c21",
   "metadata": {},
   "outputs": [],
   "source": []
  }
 ],
 "metadata": {
  "kernelspec": {
   "display_name": "Python 3",
   "language": "python",
   "name": "python3"
  },
  "language_info": {
   "codemirror_mode": {
    "name": "ipython",
    "version": 3
   },
   "file_extension": ".py",
   "mimetype": "text/x-python",
   "name": "python",
   "nbconvert_exporter": "python",
   "pygments_lexer": "ipython3",
   "version": "3.8.8"
  }
 },
 "nbformat": 4,
 "nbformat_minor": 5
}
